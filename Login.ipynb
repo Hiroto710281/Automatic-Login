{
 "cells": [
  {
   "cell_type": "code",
   "execution_count": null,
   "metadata": {},
   "outputs": [],
   "source": [
    "import chromedriver_binary\n",
    "from selenium import webdriver\n",
    "from time import sleep\n",
    "browser = webdriver.Chrome()\n",
    "url = 'https://'\n",
    "browser.get(url)\n",
    "sleep(2)\n",
    "\n",
    "elem_username =  browser.find_element_by_id('username')\n",
    "elem_username.send_keys('')\n",
    "\n",
    "elem_password = browser.find_element_by_id('password')\n",
    "elem_password.send_keys('')\n",
    "\n",
    "sleep(1)\n",
    "elem_login_btn = browser.find_element_by_id('login-btn')\n",
    "elem_login_btn.click()\n",
    "sleep(10)\n",
    "browser.quit()\n",
    "\n",
    "#from selenium.webdriver.chrome.options import Options\n",
    "#options = Options()\n",
    "#options.add_argument('--headless')\n",
    "\n",
    "#browser = webdriver.Chrome(options = options)\n",
    "#browser.quit()"
   ]
  }
 ],
 "metadata": {
  "kernelspec": {
   "display_name": "Python 3",
   "language": "python",
   "name": "python3"
  },
  "language_info": {
   "codemirror_mode": {
    "name": "ipython",
    "version": 3
   },
   "file_extension": ".py",
   "mimetype": "text/x-python",
   "name": "python",
   "nbconvert_exporter": "python",
   "pygments_lexer": "ipython3",
   "version": "3.8.5"
  }
 },
 "nbformat": 4,
 "nbformat_minor": 4
}
